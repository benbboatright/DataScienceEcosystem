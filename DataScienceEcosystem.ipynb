{
 "cells": [
  {
   "cell_type": "markdown",
   "id": "b85b26b9-53a5-4981-a319-5c03a8554e48",
   "metadata": {},
   "source": [
    "# Data Science Tools and Ecosystem"
   ]
  },
  {
   "cell_type": "markdown",
   "id": "0e34c16b-08cf-4f66-82e0-53794ab06a8b",
   "metadata": {},
   "source": [
    "In this notebook, Data Science Tools and Ecosystem are summarized."
   ]
  },
  {
   "cell_type": "markdown",
   "id": "3df97a89-f141-477c-9631-f9bf70494b58",
   "metadata": {},
   "source": [
    "#### Objectives:\n",
    " - List common libraries for data science\n",
    " - Create a table that indicates three development environment open source tools used in data science\n",
    " - Listed a few examples of evaluating arithmetic expressions in Python\n",
    " - Wrote code to convert minutes to hours"
   ]
  },
  {
   "cell_type": "markdown",
   "id": "514985be-9d10-4f18-94e2-b5256c90b801",
   "metadata": {},
   "source": [
    "Some of the popular languages that Data Scientists use are:\n",
    "1. Python\n",
    "2. R\n",
    "3. SQL"
   ]
  },
  {
   "cell_type": "markdown",
   "id": "81eb81c1-caed-4778-a326-29deb08c5e1e",
   "metadata": {},
   "source": [
    "Some of the commonly used libraries used by Data Scientists include:\n",
    "1. Pandas\n",
    "2. NumPy\n",
    "3. Matplotlib\n",
    "4. ggplot2"
   ]
  },
  {
   "cell_type": "markdown",
   "id": "f10ad0ae-1c9f-41c8-8e67-523101a23821",
   "metadata": {},
   "source": [
    "|Data Science Tools|\n",
    "| :--- |\n",
    "|Jupyter|\n",
    "|RStudio|\n",
    "|Apache Zeppelin|"
   ]
  },
  {
   "cell_type": "markdown",
   "id": "6352b97e-99eb-4d76-bc4b-2507c31d8ff8",
   "metadata": {},
   "source": [
    "### Below are a few examples of evaluating arithmetic expressions in Python\n",
    " - 1 + 2\n",
    " - 3 * 4\n",
    " - 48 / 6\n",
    " - 20 - 10 10"
   ]
  },
  {
   "cell_type": "code",
   "execution_count": 42,
   "id": "f00e786d-0ab6-40eb-a51c-2d36f32a8a6f",
   "metadata": {},
   "outputs": [
    {
     "data": {
      "text/plain": [
       "17"
      ]
     },
     "execution_count": 42,
     "metadata": {},
     "output_type": "execute_result"
    }
   ],
   "source": [
    "#This a simple arithmetic expression to mutiply then add integers\n",
    "(3*4)+5"
   ]
  },
  {
   "cell_type": "code",
   "execution_count": 11,
   "id": "d9687623-41c4-4733-9e3d-f7daa3b79ce2",
   "metadata": {},
   "outputs": [
    {
     "data": {
      "text/plain": [
       "3.3333333333333335"
      ]
     },
     "execution_count": 11,
     "metadata": {},
     "output_type": "execute_result"
    }
   ],
   "source": [
    "#This will convert 200 minutes to hours by diving by 60\n",
    "200/60"
   ]
  },
  {
   "cell_type": "markdown",
   "id": "105b169c-c9c7-44fc-9b1b-ac732929974a",
   "metadata": {},
   "source": [
    "### Author"
   ]
  },
  {
   "cell_type": "markdown",
   "id": "d86b8b4f-a4f7-450c-996e-37087fb05cdf",
   "metadata": {},
   "source": [
    "Benjamin Boatright"
   ]
  }
 ],
 "metadata": {
  "kernelspec": {
   "display_name": "Python 3 (ipykernel)",
   "language": "python",
   "name": "python3"
  },
  "language_info": {
   "codemirror_mode": {
    "name": "ipython",
    "version": 3
   },
   "file_extension": ".py",
   "mimetype": "text/x-python",
   "name": "python",
   "nbconvert_exporter": "python",
   "pygments_lexer": "ipython3",
   "version": "3.11.7"
  }
 },
 "nbformat": 4,
 "nbformat_minor": 5
}
